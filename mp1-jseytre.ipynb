{
 "cells": [
  {
   "cell_type": "code",
   "execution_count": 3,
   "metadata": {},
   "outputs": [],
   "source": [
    "from mp1 import *"
   ]
  },
  {
   "cell_type": "code",
   "execution_count": 4,
   "metadata": {},
   "outputs": [
    {
     "name": "stdout",
     "output_type": "stream",
     "text": [
      "Creating data:\n",
      "0\n",
      "10\n",
      "20\n",
      "30\n",
      "40\n",
      "50\n",
      "60\n",
      "70\n",
      "80\n",
      "90\n",
      "100\n",
      "110\n",
      "120\n",
      "130\n",
      "140\n",
      "150\n",
      "160\n",
      "170\n",
      "180\n",
      "190\n",
      "200\n",
      "210\n",
      "220\n",
      "230\n",
      "240\n",
      "250\n",
      "260\n",
      "270\n",
      "280\n",
      "290\n"
     ]
    }
   ],
   "source": [
    "[X_train1, Y_train1] = generate_dataset_classification(300, 20)"
   ]
  },
  {
   "cell_type": "code",
   "execution_count": 65,
   "metadata": {},
   "outputs": [],
   "source": [
    "from keras.models import Sequential\n",
    "from keras.layers import Dense, Activation, Conv2D, Flatten\n",
    "from keras.utils import to_categorical"
   ]
  },
  {
   "cell_type": "code",
   "execution_count": 24,
   "metadata": {},
   "outputs": [],
   "source": [
    "Y_train1 = to_categorical(Y_train1)"
   ]
  },
  {
   "cell_type": "code",
   "execution_count": 8,
   "metadata": {},
   "outputs": [],
   "source": [
    "model1 = Sequential()\n",
    "#model.add(Dense(64, input_shape=(5184,), activation='relu'))\n",
    "model1.add(Dense(3, input_shape=(5184,), activation='softmax'))\n",
    "model1.compile(optimizer='adam', loss='categorical_crossentropy',\n",
    "             metrics=['accuracy'])"
   ]
  },
  {
   "cell_type": "code",
   "execution_count": 62,
   "metadata": {},
   "outputs": [
    {
     "name": "stdout",
     "output_type": "stream",
     "text": [
      "Train on 200 samples, validate on 100 samples\n",
      "Epoch 1/20\n",
      "200/200 [==============================] - 0s 1ms/step - loss: 2.2731 - acc: 0.4650 - val_loss: 2.3989 - val_acc: 0.5400\n",
      "Epoch 2/20\n",
      "200/200 [==============================] - 0s 145us/step - loss: 1.6417 - acc: 0.4750 - val_loss: 0.5275 - val_acc: 0.8200\n",
      "Epoch 3/20\n",
      "200/200 [==============================] - 0s 236us/step - loss: 0.9559 - acc: 0.6700 - val_loss: 0.5437 - val_acc: 0.7100\n",
      "Epoch 4/20\n",
      "200/200 [==============================] - 0s 206us/step - loss: 0.7255 - acc: 0.6500 - val_loss: 0.7752 - val_acc: 0.7000\n",
      "Epoch 5/20\n",
      "200/200 [==============================] - 0s 195us/step - loss: 0.6892 - acc: 0.7000 - val_loss: 0.4591 - val_acc: 0.8100\n",
      "Epoch 6/20\n",
      "200/200 [==============================] - 0s 271us/step - loss: 0.6282 - acc: 0.6900 - val_loss: 0.4223 - val_acc: 0.7300\n",
      "Epoch 7/20\n",
      "200/200 [==============================] - 0s 211us/step - loss: 0.5349 - acc: 0.7300 - val_loss: 0.3668 - val_acc: 0.7300\n",
      "Epoch 8/20\n",
      "200/200 [==============================] - 0s 238us/step - loss: 0.3965 - acc: 0.7900 - val_loss: 0.3420 - val_acc: 0.8100\n",
      "Epoch 9/20\n",
      "200/200 [==============================] - 0s 206us/step - loss: 0.3210 - acc: 0.9100 - val_loss: 0.2472 - val_acc: 0.9500\n",
      "Epoch 10/20\n",
      "200/200 [==============================] - 0s 241us/step - loss: 0.2770 - acc: 0.9650 - val_loss: 0.2438 - val_acc: 0.9900\n",
      "Epoch 11/20\n",
      "200/200 [==============================] - 0s 206us/step - loss: 0.2754 - acc: 0.9450 - val_loss: 0.2325 - val_acc: 0.9400\n",
      "Epoch 12/20\n",
      "200/200 [==============================] - 0s 236us/step - loss: 0.2912 - acc: 0.8800 - val_loss: 0.2064 - val_acc: 1.0000\n",
      "Epoch 13/20\n",
      "200/200 [==============================] - 0s 191us/step - loss: 0.2289 - acc: 0.9650 - val_loss: 0.2669 - val_acc: 0.8400\n",
      "Epoch 14/20\n",
      "200/200 [==============================] - 0s 221us/step - loss: 0.2742 - acc: 0.8650 - val_loss: 0.1733 - val_acc: 1.0000\n",
      "Epoch 15/20\n",
      "200/200 [==============================] - 0s 246us/step - loss: 0.2710 - acc: 0.9050 - val_loss: 0.3066 - val_acc: 0.7400\n",
      "Epoch 16/20\n",
      "200/200 [==============================] - 0s 196us/step - loss: 0.2414 - acc: 0.8900 - val_loss: 0.1508 - val_acc: 1.0000\n",
      "Epoch 17/20\n",
      "200/200 [==============================] - 0s 247us/step - loss: 0.1807 - acc: 1.0000 - val_loss: 0.1580 - val_acc: 1.0000\n",
      "Epoch 18/20\n",
      "200/200 [==============================] - 0s 196us/step - loss: 0.1696 - acc: 0.9950 - val_loss: 0.1752 - val_acc: 1.0000\n",
      "Epoch 19/20\n",
      "200/200 [==============================] - 0s 206us/step - loss: 0.1882 - acc: 0.9600 - val_loss: 0.1341 - val_acc: 1.0000\n",
      "Epoch 20/20\n",
      "200/200 [==============================] - 0s 225us/step - loss: 0.1479 - acc: 0.9950 - val_loss: 0.1336 - val_acc: 1.0000\n"
     ]
    },
    {
     "data": {
      "text/plain": [
       "<keras.callbacks.History at 0x21b068fe5c0>"
      ]
     },
     "execution_count": 62,
     "metadata": {},
     "output_type": "execute_result"
    }
   ],
   "source": [
    "model1.fit(X_train1[0:200], Y_train1[0:200], \n",
    "          validation_data=(X_train1[200:300], Y_train1[200:300]),\n",
    "          epochs=20)"
   ]
  },
  {
   "cell_type": "code",
   "execution_count": 63,
   "metadata": {},
   "outputs": [
    {
     "name": "stdout",
     "output_type": "stream",
     "text": [
      "[[0. 0. 1.]]\n",
      "[[1. 0. 0.]]\n",
      "[[0. 1. 0.]]\n"
     ]
    }
   ],
   "source": [
    "X_test1 = generate_a_triangle()[0]\n",
    "X_test2 = generate_a_rectangle()\n",
    "X_test3 = generate_a_disk()\n",
    "X_test1 = X_test1.reshape(1, X_test1.shape[0])\n",
    "X_test2 = X_test2.reshape(1, X_test2.shape[0])\n",
    "X_test3 = X_test3.reshape(1, X_test3.shape[0])\n",
    "print(model1.predict(X_test1))\n",
    "print(model1.predict(X_test2))\n",
    "print(model1.predict(X_test3))"
   ]
  },
  {
   "cell_type": "code",
   "execution_count": 68,
   "metadata": {},
   "outputs": [
    {
     "name": "stdout",
     "output_type": "stream",
     "text": [
      "(5184, 3)\n"
     ]
    }
   ],
   "source": [
    "print(model1.get_weights()[0].shape)"
   ]
  },
  {
   "cell_type": "code",
   "execution_count": 72,
   "metadata": {},
   "outputs": [],
   "source": [
    "weights = model1.get_weights()[0].reshape(72,72,3)"
   ]
  },
  {
   "cell_type": "code",
   "execution_count": 75,
   "metadata": {},
   "outputs": [
    {
     "data": {
      "image/png": "[encoded data removed]",
      "text/plain": [
       "<matplotlib.figure.Figure at 0x21b06c984e0>"
      ]
     },
     "metadata": {},
     "output_type": "display_data"
    }
   ],
   "source": [
    "plt.subplot(131)\n",
    "plt.imshow(weights[:,:,0], cmap='gray')\n",
    "plt.title('rectangle')\n",
    "\n",
    "plt.subplot(132)\n",
    "plt.imshow(weights[:,:,1], cmap='gray')\n",
    "plt.title('disk')\n",
    "\n",
    "plt.subplot(133)\n",
    "plt.imshow(weights[:,:,2], cmap='gray')\n",
    "plt.title('triangle')\n",
    "\n",
    "plt.show()"
   ]
  },
  {
   "cell_type": "code",
   "execution_count": null,
   "metadata": {},
   "outputs": [],
   "source": []
  },
  {
   "cell_type": "code",
   "execution_count": 73,
   "metadata": {},
   "outputs": [
    {
     "name": "stdout",
     "output_type": "stream",
     "text": [
      "Creating data:\n",
      "0\n",
      "10\n",
      "20\n",
      "30\n",
      "40\n",
      "50\n",
      "60\n",
      "70\n",
      "80\n",
      "90\n",
      "100\n",
      "110\n",
      "120\n",
      "130\n",
      "140\n",
      "150\n",
      "160\n",
      "170\n",
      "180\n",
      "190\n",
      "200\n",
      "210\n",
      "220\n",
      "230\n",
      "240\n",
      "250\n",
      "260\n",
      "270\n",
      "280\n",
      "290\n",
      "Creating data:\n",
      "0\n",
      "10\n",
      "20\n",
      "30\n",
      "40\n",
      "50\n",
      "60\n",
      "70\n",
      "80\n",
      "90\n",
      "100\n",
      "110\n",
      "120\n",
      "130\n",
      "140\n",
      "150\n",
      "160\n",
      "170\n",
      "180\n",
      "190\n",
      "200\n",
      "210\n",
      "220\n",
      "230\n",
      "240\n",
      "250\n",
      "260\n",
      "270\n",
      "280\n",
      "290\n"
     ]
    }
   ],
   "source": [
    "[X_train2, Y_train2] = generate_dataset_classification(300, 200, True)\n",
    "[X_test2, Y_test2] = generate_test_set_classification()"
   ]
  },
  {
   "cell_type": "code",
   "execution_count": 52,
   "metadata": {},
   "outputs": [],
   "source": [
    "Y_train2 = to_categorical(Y_train2)\n",
    "X_train2 = X_train2.reshape(300,72,72,1)\n",
    "X_test2 = X_test2.reshape(300,72,72,1)"
   ]
  },
  {
   "cell_type": "code",
   "execution_count": 9,
   "metadata": {},
   "outputs": [
    {
     "name": "stdout",
     "output_type": "stream",
     "text": [
      "Train on 250 samples, validate on 50 samples\n",
      "Epoch 1/20\n",
      "250/250 [==============================] - 1s 4ms/step - loss: 2.5746 - acc: 0.3400 - val_loss: 2.1584 - val_acc: 0.3000\n",
      "Epoch 2/20\n",
      "250/250 [==============================] - 0s 164us/step - loss: 1.6530 - acc: 0.3200 - val_loss: 1.7455 - val_acc: 0.3000\n",
      "Epoch 3/20\n",
      "250/250 [==============================] - 0s 184us/step - loss: 1.2946 - acc: 0.3680 - val_loss: 1.1285 - val_acc: 0.4000\n",
      "Epoch 4/20\n",
      "250/250 [==============================] - 0s 173us/step - loss: 1.1112 - acc: 0.4200 - val_loss: 1.2704 - val_acc: 0.2600\n",
      "Epoch 5/20\n",
      "250/250 [==============================] - 0s 176us/step - loss: 1.1080 - acc: 0.4200 - val_loss: 1.0761 - val_acc: 0.2800\n",
      "Epoch 6/20\n",
      "250/250 [==============================] - 0s 214us/step - loss: 1.0408 - acc: 0.4320 - val_loss: 1.0881 - val_acc: 0.4600\n",
      "Epoch 7/20\n",
      "250/250 [==============================] - 0s 156us/step - loss: 1.0223 - acc: 0.4760 - val_loss: 1.0917 - val_acc: 0.4400\n",
      "Epoch 8/20\n",
      "250/250 [==============================] - 0s 184us/step - loss: 1.1608 - acc: 0.4120 - val_loss: 1.2679 - val_acc: 0.4800\n",
      "Epoch 9/20\n",
      "250/250 [==============================] - 0s 209us/step - loss: 1.0465 - acc: 0.4600 - val_loss: 1.1153 - val_acc: 0.4600\n",
      "Epoch 10/20\n",
      "250/250 [==============================] - 0s 144us/step - loss: 0.9626 - acc: 0.5360 - val_loss: 1.0790 - val_acc: 0.3200\n",
      "Epoch 11/20\n",
      "250/250 [==============================] - 0s 160us/step - loss: 0.9427 - acc: 0.5240 - val_loss: 1.0225 - val_acc: 0.5000\n",
      "Epoch 12/20\n",
      "250/250 [==============================] - 0s 193us/step - loss: 0.9590 - acc: 0.5560 - val_loss: 1.1593 - val_acc: 0.4000\n",
      "Epoch 13/20\n",
      "250/250 [==============================] - 0s 148us/step - loss: 0.9508 - acc: 0.5640 - val_loss: 0.9696 - val_acc: 0.5400\n",
      "Epoch 14/20\n",
      "250/250 [==============================] - 0s 158us/step - loss: 0.9682 - acc: 0.5400 - val_loss: 1.0617 - val_acc: 0.5000\n",
      "Epoch 15/20\n",
      "250/250 [==============================] - 0s 152us/step - loss: 0.8692 - acc: 0.6160 - val_loss: 1.0145 - val_acc: 0.4000\n",
      "Epoch 16/20\n",
      "250/250 [==============================] - 0s 159us/step - loss: 0.8624 - acc: 0.6000 - val_loss: 1.1223 - val_acc: 0.5400\n",
      "Epoch 17/20\n",
      "250/250 [==============================] - 0s 168us/step - loss: 1.0228 - acc: 0.5160 - val_loss: 1.0734 - val_acc: 0.4200\n",
      "Epoch 18/20\n",
      "250/250 [==============================] - 0s 193us/step - loss: 0.9016 - acc: 0.5520 - val_loss: 0.9708 - val_acc: 0.5000\n",
      "Epoch 19/20\n",
      "250/250 [==============================] - 0s 160us/step - loss: 1.0246 - acc: 0.4960 - val_loss: 0.9611 - val_acc: 0.5400\n",
      "Epoch 20/20\n",
      "250/250 [==============================] - 0s 183us/step - loss: 0.9255 - acc: 0.5400 - val_loss: 0.9686 - val_acc: 0.5400\n"
     ]
    },
    {
     "data": {
      "text/plain": [
       "<keras.callbacks.History at 0x28809ed9898>"
      ]
     },
     "execution_count": 9,
     "metadata": {},
     "output_type": "execute_result"
    }
   ],
   "source": [
    "model1.fit(X_train2[0:250], Y_train2[0:250], \n",
    "          validation_data=(X_train2[250:300], Y_train2[250:300]),\n",
    "          epochs=20)"
   ]
  },
  {
   "cell_type": "code",
   "execution_count": 72,
   "metadata": {},
   "outputs": [
    {
     "data": {
      "text/plain": [
       "(300, 3, 2, 2, 2)"
      ]
     },
     "execution_count": 72,
     "metadata": {},
     "output_type": "execute_result"
    }
   ],
   "source": [
    "Y_test2.shape"
   ]
  },
  {
   "cell_type": "code",
   "execution_count": 70,
   "metadata": {},
   "outputs": [],
   "source": [
    "model2 = Sequential()\n",
    "#model.add(Dense(64, input_shape=(5184,), activation='relu'))\n",
    "model2.add(Conv2D(filters=3, kernel_size=12, input_shape=(72,72,1), activation='relu'))\n",
    "model2.add(Flatten())\n",
    "model2.add(Dense(3, activation='softmax'))\n",
    "model2.compile(optimizer='adam', loss='categorical_crossentropy',\n",
    "             metrics=['accuracy'])"
   ]
  },
  {
   "cell_type": "code",
   "execution_count": 71,
   "metadata": {},
   "outputs": [
    {
     "ename": "ValueError",
     "evalue": "Error when checking target: expected dense_4 to have 2 dimensions, but got array with shape (300, 3, 2, 2)",
     "output_type": "error",
     "traceback": [
      "\u001b[1;31m---------------------------------------------------------------------------\u001b[0m",
      "\u001b[1;31mValueError\u001b[0m                                Traceback (most recent call last)",
      "\u001b[1;32m<ipython-input-71-f3f38e0d4d7f>\u001b[0m in \u001b[0;36m<module>\u001b[1;34m()\u001b[0m\n\u001b[0;32m      1\u001b[0m model2.fit(X_train2, Y_train2, \n\u001b[0;32m      2\u001b[0m           \u001b[0mvalidation_data\u001b[0m\u001b[1;33m=\u001b[0m\u001b[1;33m(\u001b[0m\u001b[0mX_test2\u001b[0m\u001b[1;33m,\u001b[0m \u001b[0mY_test2\u001b[0m\u001b[1;33m)\u001b[0m\u001b[1;33m,\u001b[0m\u001b[1;33m\u001b[0m\u001b[0m\n\u001b[1;32m----> 3\u001b[1;33m           epochs=20)\n\u001b[0m",
      "\u001b[1;32mc:\\python\\python36\\lib\\site-packages\\keras\\models.py\u001b[0m in \u001b[0;36mfit\u001b[1;34m(self, x, y, batch_size, epochs, verbose, callbacks, validation_split, validation_data, shuffle, class_weight, sample_weight, initial_epoch, steps_per_epoch, validation_steps, **kwargs)\u001b[0m\n\u001b[0;32m    963\u001b[0m                               \u001b[0minitial_epoch\u001b[0m\u001b[1;33m=\u001b[0m\u001b[0minitial_epoch\u001b[0m\u001b[1;33m,\u001b[0m\u001b[1;33m\u001b[0m\u001b[0m\n\u001b[0;32m    964\u001b[0m                               \u001b[0msteps_per_epoch\u001b[0m\u001b[1;33m=\u001b[0m\u001b[0msteps_per_epoch\u001b[0m\u001b[1;33m,\u001b[0m\u001b[1;33m\u001b[0m\u001b[0m\n\u001b[1;32m--> 965\u001b[1;33m                               validation_steps=validation_steps)\n\u001b[0m\u001b[0;32m    966\u001b[0m \u001b[1;33m\u001b[0m\u001b[0m\n\u001b[0;32m    967\u001b[0m     def evaluate(self, x=None, y=None,\n",
      "\u001b[1;32mc:\\python\\python36\\lib\\site-packages\\keras\\engine\\training.py\u001b[0m in \u001b[0;36mfit\u001b[1;34m(self, x, y, batch_size, epochs, verbose, callbacks, validation_split, validation_data, shuffle, class_weight, sample_weight, initial_epoch, steps_per_epoch, validation_steps, **kwargs)\u001b[0m\n\u001b[0;32m   1591\u001b[0m             \u001b[0mclass_weight\u001b[0m\u001b[1;33m=\u001b[0m\u001b[0mclass_weight\u001b[0m\u001b[1;33m,\u001b[0m\u001b[1;33m\u001b[0m\u001b[0m\n\u001b[0;32m   1592\u001b[0m             \u001b[0mcheck_batch_axis\u001b[0m\u001b[1;33m=\u001b[0m\u001b[1;32mFalse\u001b[0m\u001b[1;33m,\u001b[0m\u001b[1;33m\u001b[0m\u001b[0m\n\u001b[1;32m-> 1593\u001b[1;33m             batch_size=batch_size)\n\u001b[0m\u001b[0;32m   1594\u001b[0m         \u001b[1;31m# Prepare validation data.\u001b[0m\u001b[1;33m\u001b[0m\u001b[1;33m\u001b[0m\u001b[0m\n\u001b[0;32m   1595\u001b[0m         \u001b[0mdo_validation\u001b[0m \u001b[1;33m=\u001b[0m \u001b[1;32mFalse\u001b[0m\u001b[1;33m\u001b[0m\u001b[0m\n",
      "\u001b[1;32mc:\\python\\python36\\lib\\site-packages\\keras\\engine\\training.py\u001b[0m in \u001b[0;36m_standardize_user_data\u001b[1;34m(self, x, y, sample_weight, class_weight, check_batch_axis, batch_size)\u001b[0m\n\u001b[0;32m   1428\u001b[0m                                     \u001b[0moutput_shapes\u001b[0m\u001b[1;33m,\u001b[0m\u001b[1;33m\u001b[0m\u001b[0m\n\u001b[0;32m   1429\u001b[0m                                     \u001b[0mcheck_batch_axis\u001b[0m\u001b[1;33m=\u001b[0m\u001b[1;32mFalse\u001b[0m\u001b[1;33m,\u001b[0m\u001b[1;33m\u001b[0m\u001b[0m\n\u001b[1;32m-> 1430\u001b[1;33m                                     exception_prefix='target')\n\u001b[0m\u001b[0;32m   1431\u001b[0m         sample_weights = _standardize_sample_weights(sample_weight,\n\u001b[0;32m   1432\u001b[0m                                                      self._feed_output_names)\n",
      "\u001b[1;32mc:\\python\\python36\\lib\\site-packages\\keras\\engine\\training.py\u001b[0m in \u001b[0;36m_standardize_input_data\u001b[1;34m(data, names, shapes, check_batch_axis, exception_prefix)\u001b[0m\n\u001b[0;32m    108\u001b[0m                         \u001b[1;34m': expected '\u001b[0m \u001b[1;33m+\u001b[0m \u001b[0mnames\u001b[0m\u001b[1;33m[\u001b[0m\u001b[0mi\u001b[0m\u001b[1;33m]\u001b[0m \u001b[1;33m+\u001b[0m \u001b[1;34m' to have '\u001b[0m \u001b[1;33m+\u001b[0m\u001b[1;33m\u001b[0m\u001b[0m\n\u001b[0;32m    109\u001b[0m                         \u001b[0mstr\u001b[0m\u001b[1;33m(\u001b[0m\u001b[0mlen\u001b[0m\u001b[1;33m(\u001b[0m\u001b[0mshape\u001b[0m\u001b[1;33m)\u001b[0m\u001b[1;33m)\u001b[0m \u001b[1;33m+\u001b[0m \u001b[1;34m' dimensions, but got array '\u001b[0m\u001b[1;33m\u001b[0m\u001b[0m\n\u001b[1;32m--> 110\u001b[1;33m                         'with shape ' + str(data_shape))\n\u001b[0m\u001b[0;32m    111\u001b[0m                 \u001b[1;32mif\u001b[0m \u001b[1;32mnot\u001b[0m \u001b[0mcheck_batch_axis\u001b[0m\u001b[1;33m:\u001b[0m\u001b[1;33m\u001b[0m\u001b[0m\n\u001b[0;32m    112\u001b[0m                     \u001b[0mdata_shape\u001b[0m \u001b[1;33m=\u001b[0m \u001b[0mdata_shape\u001b[0m\u001b[1;33m[\u001b[0m\u001b[1;36m1\u001b[0m\u001b[1;33m:\u001b[0m\u001b[1;33m]\u001b[0m\u001b[1;33m\u001b[0m\u001b[0m\n",
      "\u001b[1;31mValueError\u001b[0m: Error when checking target: expected dense_4 to have 2 dimensions, but got array with shape (300, 3, 2, 2)"
     ]
    }
   ],
   "source": [
    "model2.fit(X_train2, Y_train2, \n",
    "          validation_data=(X_test2, Y_test2),\n",
    "          epochs=20)"
   ]
  },
  {
   "cell_type": "code",
   "execution_count": null,
   "metadata": {},
   "outputs": [],
   "source": []
  }
 ],
 "metadata": {
  "kernelspec": {
   "display_name": "Python 3",
   "language": "python",
   "name": "python3"
  },
  "language_info": {
   "codemirror_mode": {
    "name": "ipython",
    "version": 3
   },
   "file_extension": ".py",
   "mimetype": "text/x-python",
   "name": "python",
   "nbconvert_exporter": "python",
   "pygments_lexer": "ipython3",
   "version": "3.6.4"
  }
 },
 "nbformat": 4,
 "nbformat_minor": 2
}
