{
 "cells": [
  {
   "cell_type": "markdown",
   "metadata": {},
   "source": [
    "# Simple classification\n",
    "First we import the necessary packages and generate our datasets"
   ]
  },
  {
   "cell_type": "code",
   "execution_count": 4,
   "metadata": {},
   "outputs": [],
   "source": [
    "from mp1 import *\n",
    "from keras.models import Sequential\n",
    "from keras.layers import Dense, Activation, Conv2D, Flatten, Dropout, MaxPooling2D\n",
    "from keras.utils import to_categorical\n",
    "from keras.regularizers import l2"
   ]
  },
  {
   "cell_type": "code",
   "execution_count": 4,
   "metadata": {},
   "outputs": [
    {
     "name": "stdout",
     "output_type": "stream",
     "text": [
      "Creating data:\n",
      "0\n",
      "10\n",
      "20\n",
      "30\n",
      "40\n",
      "50\n",
      "60\n",
      "70\n",
      "80\n",
      "90\n",
      "100\n",
      "110\n",
      "120\n",
      "130\n",
      "140\n",
      "150\n",
      "160\n",
      "170\n",
      "180\n",
      "190\n",
      "200\n",
      "210\n",
      "220\n",
      "230\n",
      "240\n",
      "250\n",
      "260\n",
      "270\n",
      "280\n",
      "290\n"
     ]
    }
   ],
   "source": [
    "[X_train1, Y_train1] = generate_dataset_classification(300, 20)\n",
    "Y_train1 = to_categorical(Y_train1)"
   ]
  },
  {
   "cell_type": "markdown",
   "metadata": {},
   "source": [
    "### First neural network (simple)\n",
    "We then load our neural network: simple linear classifier with 3 neurons, using softmax for output, cross-entropy as loss and printing accuracy as gradient descent occurs."
   ]
  },
  {
   "cell_type": "code",
   "execution_count": 5,
   "metadata": {},
   "outputs": [],
   "source": [
    "model1 = Sequential()\n",
    "model1.add(Dense(3, input_shape=(5184,), activation='softmax'))\n",
    "model1.compile(optimizer='sgd', loss='categorical_crossentropy',\n",
    "             metrics=['accuracy'])"
   ]
  },
  {
   "cell_type": "code",
   "execution_count": 6,
   "metadata": {},
   "outputs": [
    {
     "name": "stdout",
     "output_type": "stream",
     "text": [
      "Train on 200 samples, validate on 100 samples\n",
      "Epoch 1/20\n",
      "200/200 [==============================] - 0s 845us/step - loss: 7.8566 - acc: 0.3850 - val_loss: 12.5721 - val_acc: 0.2200\n",
      "Epoch 2/20\n",
      "200/200 [==============================] - 0s 103us/step - loss: 10.0738 - acc: 0.3750 - val_loss: 12.5721 - val_acc: 0.2200\n",
      "Epoch 3/20\n",
      "200/200 [==============================] - 0s 110us/step - loss: 10.0738 - acc: 0.3750 - val_loss: 12.5721 - val_acc: 0.2200\n",
      "Epoch 4/20\n",
      "200/200 [==============================] - 0s 93us/step - loss: 10.0738 - acc: 0.3750 - val_loss: 12.5721 - val_acc: 0.2200\n",
      "Epoch 5/20\n",
      "200/200 [==============================] - 0s 93us/step - loss: 10.0738 - acc: 0.3750 - val_loss: 12.5721 - val_acc: 0.2200\n",
      "Epoch 6/20\n",
      "200/200 [==============================] - 0s 88us/step - loss: 10.0738 - acc: 0.3750 - val_loss: 12.5721 - val_acc: 0.2200\n",
      "Epoch 7/20\n",
      "200/200 [==============================] - 0s 85us/step - loss: 10.0738 - acc: 0.3750 - val_loss: 12.5721 - val_acc: 0.2200\n",
      "Epoch 8/20\n",
      "200/200 [==============================] - 0s 93us/step - loss: 10.0738 - acc: 0.3750 - val_loss: 12.5721 - val_acc: 0.2200\n",
      "Epoch 9/20\n",
      "200/200 [==============================] - 0s 88us/step - loss: 10.0738 - acc: 0.3750 - val_loss: 12.5721 - val_acc: 0.2200\n",
      "Epoch 10/20\n",
      "200/200 [==============================] - 0s 90us/step - loss: 10.0738 - acc: 0.3750 - val_loss: 12.5721 - val_acc: 0.2200\n",
      "Epoch 11/20\n",
      "200/200 [==============================] - 0s 88us/step - loss: 10.0738 - acc: 0.3750 - val_loss: 12.5721 - val_acc: 0.2200\n",
      "Epoch 12/20\n",
      "200/200 [==============================] - 0s 90us/step - loss: 10.0738 - acc: 0.3750 - val_loss: 12.5721 - val_acc: 0.2200\n",
      "Epoch 13/20\n",
      "200/200 [==============================] - 0s 90us/step - loss: 10.0738 - acc: 0.3750 - val_loss: 12.5721 - val_acc: 0.2200\n",
      "Epoch 14/20\n",
      "200/200 [==============================] - 0s 85us/step - loss: 10.0738 - acc: 0.3750 - val_loss: 12.5721 - val_acc: 0.2200\n",
      "Epoch 15/20\n",
      "200/200 [==============================] - 0s 88us/step - loss: 10.0738 - acc: 0.3750 - val_loss: 12.5721 - val_acc: 0.2200\n",
      "Epoch 16/20\n",
      "200/200 [==============================] - 0s 88us/step - loss: 10.0738 - acc: 0.3750 - val_loss: 12.5721 - val_acc: 0.2200\n",
      "Epoch 17/20\n",
      "200/200 [==============================] - 0s 85us/step - loss: 10.0738 - acc: 0.3750 - val_loss: 12.5721 - val_acc: 0.2200\n",
      "Epoch 18/20\n",
      "200/200 [==============================] - 0s 88us/step - loss: 10.0738 - acc: 0.3750 - val_loss: 12.5721 - val_acc: 0.2200\n",
      "Epoch 19/20\n",
      "200/200 [==============================] - 0s 93us/step - loss: 10.0738 - acc: 0.3750 - val_loss: 12.5721 - val_acc: 0.2200\n",
      "Epoch 20/20\n",
      "200/200 [==============================] - 0s 85us/step - loss: 10.0738 - acc: 0.3750 - val_loss: 12.5721 - val_acc: 0.2200\n"
     ]
    },
    {
     "data": {
      "text/plain": [
       "<keras.callbacks.History at 0x1f76369ab70>"
      ]
     },
     "execution_count": 6,
     "metadata": {},
     "output_type": "execute_result"
    }
   ],
   "source": [
    "model1.fit(X_train1[0:200], Y_train1[0:200], \n",
    "          validation_data=(X_train1[200:300], Y_train1[200:300]),\n",
    "          epochs=20, batch_size=32)"
   ]
  },
  {
   "cell_type": "markdown",
   "metadata": {},
   "source": [
    "Instead of having to optimize the different settings of the Stochastic Gradient Descent, switching to Adam ensures great convergence."
   ]
  },
  {
   "cell_type": "code",
   "execution_count": 8,
   "metadata": {},
   "outputs": [],
   "source": [
    "model1 = Sequential()\n",
    "model1.add(Dense(3, input_shape=(5184,), activation='softmax'))\n",
    "model1.compile(optimizer='adam', loss='categorical_crossentropy',\n",
    "             metrics=['accuracy'])"
   ]
  },
  {
   "cell_type": "code",
   "execution_count": 9,
   "metadata": {},
   "outputs": [
    {
     "name": "stdout",
     "output_type": "stream",
     "text": [
      "Train on 200 samples, validate on 100 samples\n",
      "Epoch 1/20\n",
      "200/200 [==============================] - 1s 3ms/step - loss: 2.2047 - acc: 0.3750 - val_loss: 1.4232 - val_acc: 0.6300\n",
      "Epoch 2/20\n",
      "200/200 [==============================] - 0s 108us/step - loss: 1.2395 - acc: 0.4650 - val_loss: 0.7129 - val_acc: 0.6800\n",
      "Epoch 3/20\n",
      "200/200 [==============================] - 0s 95us/step - loss: 0.7134 - acc: 0.7500 - val_loss: 0.5657 - val_acc: 0.7500\n",
      "Epoch 4/20\n",
      "200/200 [==============================] - 0s 93us/step - loss: 0.5427 - acc: 0.7400 - val_loss: 0.4673 - val_acc: 0.8400\n",
      "Epoch 5/20\n",
      "200/200 [==============================] - 0s 93us/step - loss: 0.5188 - acc: 0.7750 - val_loss: 0.3734 - val_acc: 0.8400\n",
      "Epoch 6/20\n",
      "200/200 [==============================] - 0s 93us/step - loss: 0.4507 - acc: 0.8050 - val_loss: 0.5473 - val_acc: 0.6600\n",
      "Epoch 7/20\n",
      "200/200 [==============================] - 0s 93us/step - loss: 0.4693 - acc: 0.7750 - val_loss: 0.3944 - val_acc: 0.8300\n",
      "Epoch 8/20\n",
      "200/200 [==============================] - 0s 93us/step - loss: 0.4100 - acc: 0.7850 - val_loss: 0.2447 - val_acc: 0.9700\n",
      "Epoch 9/20\n",
      "200/200 [==============================] - 0s 93us/step - loss: 0.2923 - acc: 0.8950 - val_loss: 0.3675 - val_acc: 0.8400\n",
      "Epoch 10/20\n",
      "200/200 [==============================] - 0s 98us/step - loss: 0.3213 - acc: 0.8850 - val_loss: 0.3054 - val_acc: 0.8500\n",
      "Epoch 11/20\n",
      "200/200 [==============================] - 0s 93us/step - loss: 0.2009 - acc: 0.9550 - val_loss: 0.2393 - val_acc: 0.8400\n",
      "Epoch 12/20\n",
      "200/200 [==============================] - 0s 90us/step - loss: 0.2106 - acc: 0.9650 - val_loss: 0.1884 - val_acc: 1.0000\n",
      "Epoch 13/20\n",
      "200/200 [==============================] - 0s 93us/step - loss: 0.1727 - acc: 0.9900 - val_loss: 0.1681 - val_acc: 1.0000\n",
      "Epoch 14/20\n",
      "200/200 [==============================] - 0s 98us/step - loss: 0.1618 - acc: 1.0000 - val_loss: 0.1659 - val_acc: 1.0000\n",
      "Epoch 15/20\n",
      "200/200 [==============================] - 0s 98us/step - loss: 0.1471 - acc: 1.0000 - val_loss: 0.2083 - val_acc: 0.9400\n",
      "Epoch 16/20\n",
      "200/200 [==============================] - 0s 90us/step - loss: 0.1853 - acc: 0.9500 - val_loss: 0.1411 - val_acc: 1.0000\n",
      "Epoch 17/20\n",
      "200/200 [==============================] - 0s 93us/step - loss: 0.1425 - acc: 0.9900 - val_loss: 0.1505 - val_acc: 0.9500\n",
      "Epoch 18/20\n",
      "200/200 [==============================] - 0s 93us/step - loss: 0.1350 - acc: 0.9800 - val_loss: 0.1511 - val_acc: 0.9900\n",
      "Epoch 19/20\n",
      "200/200 [==============================] - 0s 95us/step - loss: 0.1160 - acc: 1.0000 - val_loss: 0.1348 - val_acc: 0.9800\n",
      "Epoch 20/20\n",
      "200/200 [==============================] - 0s 93us/step - loss: 0.1195 - acc: 0.9900 - val_loss: 0.1206 - val_acc: 1.0000\n"
     ]
    },
    {
     "data": {
      "text/plain": [
       "<keras.callbacks.History at 0x1f75aa63748>"
      ]
     },
     "execution_count": 9,
     "metadata": {},
     "output_type": "execute_result"
    }
   ],
   "source": [
    "model1.fit(X_train1[0:200], Y_train1[0:200], \n",
    "          validation_data=(X_train1[200:300], Y_train1[200:300]),\n",
    "          epochs=20, batch_size=32)"
   ]
  },
  {
   "cell_type": "markdown",
   "metadata": {},
   "source": [
    "### Checking the classifier\n",
    "We can check our classifier for all 3 classes"
   ]
  },
  {
   "cell_type": "code",
   "execution_count": 10,
   "metadata": {},
   "outputs": [
    {
     "name": "stdout",
     "output_type": "stream",
     "text": [
      "[[1. 0. 0.]]\n",
      "[[0. 1. 0.]]\n",
      "[[0. 0. 1.]]\n"
     ]
    }
   ],
   "source": [
    "X_test1 = generate_a_rectangle()\n",
    "X_test2 = generate_a_disk()\n",
    "X_test3 = generate_a_triangle()[0]\n",
    "X_test1 = X_test1.reshape(1, X_test1.shape[0])\n",
    "X_test2 = X_test2.reshape(1, X_test2.shape[0])\n",
    "X_test3 = X_test3.reshape(1, X_test3.shape[0])\n",
    "print(model1.predict(X_test1))\n",
    "print(model1.predict(X_test2))\n",
    "print(model1.predict(X_test3))"
   ]
  },
  {
   "cell_type": "markdown",
   "metadata": {},
   "source": [
    "### We then extract the weights and visualize them\n",
    "We can even recognize the different shapes."
   ]
  },
  {
   "cell_type": "code",
   "execution_count": 11,
   "metadata": {},
   "outputs": [
    {
     "data": {
      "image/png": "[encoded data removed]",
      "text/plain": [
       "<matplotlib.figure.Figure at 0x1f75a329d30>"
      ]
     },
     "metadata": {},
     "output_type": "display_data"
    }
   ],
   "source": [
    "weights = model1.get_weights()[0].reshape(72,72,3)\n",
    "\n",
    "plt.subplot(131)\n",
    "plt.imshow(weights[:,:,0], cmap='gray')\n",
    "plt.title('rectangle')\n",
    "\n",
    "plt.subplot(132)\n",
    "plt.imshow(weights[:,:,1], cmap='gray')\n",
    "plt.title('disk')\n",
    "\n",
    "plt.subplot(133)\n",
    "plt.imshow(weights[:,:,2], cmap='gray')\n",
    "plt.title('triangle')\n",
    "\n",
    "plt.show()"
   ]
  },
  {
   "cell_type": "markdown",
   "metadata": {},
   "source": [
    "# A more complicated classification problem\n",
    "First we generate the data and reshape it for the needs of the convolutional neural network (CNN).\n",
    "In order to have better results we use training and testing datasets that contain 1,000 images.\n",
    "Our CNN reaches a performance of:\n",
    "- 100% training accuracy\n",
    "- 92% testing accuracy\n",
    "- 0.3 loss\n",
    "\n",
    "Note: implementing early stopping would have lowered the final loss reached but seemingly not improved accuracy at testing."
   ]
  },
  {
   "cell_type": "code",
   "execution_count": 35,
   "metadata": {},
   "outputs": [
    {
     "name": "stdout",
     "output_type": "stream",
     "text": [
      "Creating data:\n",
      "0\n",
      "100\n",
      "200\n",
      "300\n",
      "400\n",
      "500\n",
      "600\n",
      "700\n",
      "800\n",
      "900\n",
      "Creating data:\n"
     ]
    }
   ],
   "source": [
    "n_samples = 1000\n",
    "\n",
    "[X_train2, Y_train2] = generate_dataset_classification(n_samples, 20, True)\n",
    "[X_test2, Y_test2] = generate_test_set_classification(n_samples, True)\n",
    "Y_train2 = to_categorical(Y_train2)\n",
    "X_train2 = X_train2.reshape(n_samples,72,72,1)\n",
    "X_test2 = X_test2.reshape(n_samples,72,72,1)"
   ]
  },
  {
   "cell_type": "markdown",
   "metadata": {},
   "source": [
    "### Trying out the previous model\n",
    "Spoilers: it doesn't work (because of changing shapes and positions)"
   ]
  },
  {
   "cell_type": "code",
   "execution_count": 36,
   "metadata": {},
   "outputs": [
    {
     "ename": "NameError",
     "evalue": "name 'model1' is not defined",
     "output_type": "error",
     "traceback": [
      "\u001b[1;31m---------------------------------------------------------------------------\u001b[0m",
      "\u001b[1;31mNameError\u001b[0m                                 Traceback (most recent call last)",
      "\u001b[1;32m<ipython-input-36-2a452f1db51b>\u001b[0m in \u001b[0;36m<module>\u001b[1;34m()\u001b[0m\n\u001b[0;32m      2\u001b[0m \u001b[0mX_test_temp\u001b[0m \u001b[1;33m=\u001b[0m \u001b[0mX_test2\u001b[0m\u001b[1;33m.\u001b[0m\u001b[0mreshape\u001b[0m\u001b[1;33m(\u001b[0m\u001b[0mn_samples\u001b[0m\u001b[1;33m,\u001b[0m \u001b[1;36m5184\u001b[0m\u001b[1;33m)\u001b[0m\u001b[1;33m\u001b[0m\u001b[0m\n\u001b[0;32m      3\u001b[0m \u001b[1;33m\u001b[0m\u001b[0m\n\u001b[1;32m----> 4\u001b[1;33m model1.fit(X_train_temp, Y_train2, \n\u001b[0m\u001b[0;32m      5\u001b[0m           \u001b[0mvalidation_data\u001b[0m\u001b[1;33m=\u001b[0m\u001b[1;33m(\u001b[0m\u001b[0mX_test_temp\u001b[0m\u001b[1;33m,\u001b[0m \u001b[0mY_test2\u001b[0m\u001b[1;33m)\u001b[0m\u001b[1;33m,\u001b[0m\u001b[1;33m\u001b[0m\u001b[0m\n\u001b[0;32m      6\u001b[0m           epochs=20, batch_size=32)\n",
      "\u001b[1;31mNameError\u001b[0m: name 'model1' is not defined"
     ]
    }
   ],
   "source": [
    "X_train_temp = X_train2.reshape(n_samples, 5184)\n",
    "X_test_temp = X_test2.reshape(n_samples, 5184)\n",
    "\n",
    "model1.fit(X_train_temp, Y_train2, \n",
    "          validation_data=(X_test_temp, Y_test2),\n",
    "          epochs=20, batch_size=32)"
   ]
  },
  {
   "cell_type": "markdown",
   "metadata": {},
   "source": [
    "### The final CNN used\n",
    "64 filters of size 3x3 with 4x4 MaxPooling, 0.5 Dropout and a fully-connected 124-neuron hidden layer.\n",
    "Loss: cross-entropy; optimizer: adam."
   ]
  },
  {
   "cell_type": "code",
   "execution_count": 44,
   "metadata": {},
   "outputs": [
    {
     "name": "stdout",
     "output_type": "stream",
     "text": [
      "_________________________________________________________________\n",
      "Layer (type)                 Output Shape              Param #   \n",
      "=================================================================\n",
      "conv2d_16 (Conv2D)           (None, 70, 70, 64)        640       \n",
      "_________________________________________________________________\n",
      "max_pooling2d_16 (MaxPooling (None, 17, 17, 64)        0         \n",
      "_________________________________________________________________\n",
      "dropout_17 (Dropout)         (None, 17, 17, 64)        0         \n",
      "_________________________________________________________________\n",
      "flatten_16 (Flatten)         (None, 18496)             0         \n",
      "_________________________________________________________________\n",
      "dense_31 (Dense)             (None, 124)               2293628   \n",
      "_________________________________________________________________\n",
      "dense_32 (Dense)             (None, 3)                 375       \n",
      "=================================================================\n",
      "Total params: 2,294,643\n",
      "Trainable params: 2,294,643\n",
      "Non-trainable params: 0\n",
      "_________________________________________________________________\n",
      "None\n"
     ]
    }
   ],
   "source": [
    "model2 = Sequential()\n",
    "model2.add(Conv2D(filters=64, kernel_size=(3,3), input_shape=(72,72,1), activation='relu'))\n",
    "model2.add(MaxPooling2D((4,4)))\n",
    "model2.add(Dropout(0.5))\n",
    "model2.add(Flatten())\n",
    "model2.add(Dense(124, activation='relu'))\n",
    "model2.add(Dense(3, activation='softmax'))\n",
    "model2.compile(optimizer='adam', loss='categorical_crossentropy',\n",
    "             metrics=['accuracy'])\n",
    "print(model2.summary())"
   ]
  },
  {
   "cell_type": "code",
   "execution_count": 45,
   "metadata": {},
   "outputs": [
    {
     "name": "stdout",
     "output_type": "stream",
     "text": [
      "Train on 1000 samples, validate on 1000 samples\n",
      "Epoch 1/50\n",
      "1000/1000 [==============================] - 7s 7ms/step - loss: 1.1393 - acc: 0.4280 - val_loss: 0.9236 - val_acc: 0.5960\n",
      "Epoch 2/50\n",
      "1000/1000 [==============================] - 6s 6ms/step - loss: 0.8173 - acc: 0.6860 - val_loss: 0.7193 - val_acc: 0.7230\n",
      "Epoch 3/50\n",
      "1000/1000 [==============================] - 6s 6ms/step - loss: 0.6689 - acc: 0.7630 - val_loss: 0.6221 - val_acc: 0.8190\n",
      "Epoch 4/50\n",
      "1000/1000 [==============================] - 6s 6ms/step - loss: 0.5907 - acc: 0.7850 - val_loss: 0.5665 - val_acc: 0.8250\n",
      "Epoch 5/50\n",
      "1000/1000 [==============================] - 6s 6ms/step - loss: 0.4878 - acc: 0.8570 - val_loss: 0.5335 - val_acc: 0.7800\n",
      "Epoch 6/50\n",
      "1000/1000 [==============================] - 6s 6ms/step - loss: 0.4334 - acc: 0.8740 - val_loss: 0.5282 - val_acc: 0.8300\n",
      "Epoch 7/50\n",
      "1000/1000 [==============================] - 6s 6ms/step - loss: 0.3736 - acc: 0.8890 - val_loss: 0.4060 - val_acc: 0.8710\n",
      "Epoch 8/50\n",
      "1000/1000 [==============================] - 6s 6ms/step - loss: 0.3017 - acc: 0.9190 - val_loss: 0.3545 - val_acc: 0.8840\n",
      "Epoch 9/50\n",
      "1000/1000 [==============================] - 6s 6ms/step - loss: 0.2565 - acc: 0.9220 - val_loss: 0.3584 - val_acc: 0.8750\n",
      "Epoch 10/50\n",
      "1000/1000 [==============================] - 6s 6ms/step - loss: 0.2331 - acc: 0.9340 - val_loss: 0.3662 - val_acc: 0.8720\n",
      "Epoch 11/50\n",
      "1000/1000 [==============================] - 6s 6ms/step - loss: 0.2135 - acc: 0.9350 - val_loss: 0.2937 - val_acc: 0.9070\n",
      "Epoch 12/50\n",
      "1000/1000 [==============================] - 6s 6ms/step - loss: 0.1658 - acc: 0.9620 - val_loss: 0.2766 - val_acc: 0.9110\n",
      "Epoch 13/50\n",
      "1000/1000 [==============================] - 6s 6ms/step - loss: 0.1341 - acc: 0.9680 - val_loss: 0.2689 - val_acc: 0.9000\n",
      "Epoch 14/50\n",
      "1000/1000 [==============================] - 6s 6ms/step - loss: 0.1264 - acc: 0.9680 - val_loss: 0.2504 - val_acc: 0.9120\n",
      "Epoch 15/50\n",
      "1000/1000 [==============================] - 6s 6ms/step - loss: 0.1004 - acc: 0.9740 - val_loss: 0.2471 - val_acc: 0.9160\n",
      "Epoch 16/50\n",
      "1000/1000 [==============================] - 6s 6ms/step - loss: 0.0976 - acc: 0.9730 - val_loss: 0.2527 - val_acc: 0.9080\n",
      "Epoch 17/50\n",
      "1000/1000 [==============================] - 6s 6ms/step - loss: 0.0813 - acc: 0.9780 - val_loss: 0.3113 - val_acc: 0.8810\n",
      "Epoch 18/50\n",
      "1000/1000 [==============================] - 6s 6ms/step - loss: 0.0862 - acc: 0.9790 - val_loss: 0.2660 - val_acc: 0.9030\n",
      "Epoch 19/50\n",
      "1000/1000 [==============================] - 6s 6ms/step - loss: 0.0685 - acc: 0.9840 - val_loss: 0.2340 - val_acc: 0.9180\n",
      "Epoch 20/50\n",
      "1000/1000 [==============================] - 6s 6ms/step - loss: 0.0604 - acc: 0.9850 - val_loss: 0.2283 - val_acc: 0.9240\n",
      "Epoch 21/50\n",
      "1000/1000 [==============================] - 6s 6ms/step - loss: 0.0544 - acc: 0.9930 - val_loss: 0.2293 - val_acc: 0.9290\n",
      "Epoch 22/50\n",
      "1000/1000 [==============================] - 6s 6ms/step - loss: 0.0462 - acc: 0.9910 - val_loss: 0.2399 - val_acc: 0.9300\n",
      "Epoch 23/50\n",
      "1000/1000 [==============================] - 6s 6ms/step - loss: 0.0544 - acc: 0.9920 - val_loss: 0.2251 - val_acc: 0.9200\n",
      "Epoch 24/50\n",
      "1000/1000 [==============================] - 6s 6ms/step - loss: 0.0437 - acc: 0.9910 - val_loss: 0.2376 - val_acc: 0.9160\n",
      "Epoch 25/50\n",
      "1000/1000 [==============================] - 6s 6ms/step - loss: 0.0376 - acc: 0.9930 - val_loss: 0.2346 - val_acc: 0.9160\n",
      "Epoch 26/50\n",
      "1000/1000 [==============================] - 6s 6ms/step - loss: 0.0354 - acc: 0.9970 - val_loss: 0.2596 - val_acc: 0.9110\n",
      "Epoch 27/50\n",
      "1000/1000 [==============================] - 6s 6ms/step - loss: 0.0318 - acc: 0.9980 - val_loss: 0.2437 - val_acc: 0.9180\n",
      "Epoch 28/50\n",
      "1000/1000 [==============================] - 6s 6ms/step - loss: 0.0269 - acc: 0.9960 - val_loss: 0.2321 - val_acc: 0.9290\n",
      "Epoch 29/50\n",
      "1000/1000 [==============================] - 6s 6ms/step - loss: 0.0324 - acc: 0.9940 - val_loss: 0.2364 - val_acc: 0.9340\n",
      "Epoch 30/50\n",
      "1000/1000 [==============================] - 6s 6ms/step - loss: 0.0250 - acc: 0.9990 - val_loss: 0.2454 - val_acc: 0.9190\n",
      "Epoch 31/50\n",
      "1000/1000 [==============================] - 6s 6ms/step - loss: 0.0279 - acc: 0.9960 - val_loss: 0.2525 - val_acc: 0.9130\n",
      "Epoch 32/50\n",
      "1000/1000 [==============================] - 6s 6ms/step - loss: 0.0250 - acc: 0.9980 - val_loss: 0.2578 - val_acc: 0.9160\n",
      "Epoch 33/50\n",
      "1000/1000 [==============================] - 6s 6ms/step - loss: 0.0221 - acc: 0.9960 - val_loss: 0.2473 - val_acc: 0.9220\n",
      "Epoch 34/50\n",
      "1000/1000 [==============================] - 6s 6ms/step - loss: 0.0205 - acc: 0.9970 - val_loss: 0.2440 - val_acc: 0.9240\n",
      "Epoch 35/50\n",
      "1000/1000 [==============================] - 6s 6ms/step - loss: 0.0186 - acc: 0.9990 - val_loss: 0.2707 - val_acc: 0.9130\n",
      "Epoch 36/50\n",
      "1000/1000 [==============================] - 6s 6ms/step - loss: 0.0162 - acc: 0.9980 - val_loss: 0.2632 - val_acc: 0.9110\n",
      "Epoch 37/50\n",
      "1000/1000 [==============================] - 6s 6ms/step - loss: 0.0182 - acc: 0.9970 - val_loss: 0.2474 - val_acc: 0.9230\n",
      "Epoch 38/50\n",
      "1000/1000 [==============================] - 6s 6ms/step - loss: 0.0148 - acc: 0.9990 - val_loss: 0.2610 - val_acc: 0.9170\n",
      "Epoch 39/50\n",
      "1000/1000 [==============================] - 6s 6ms/step - loss: 0.0172 - acc: 0.9960 - val_loss: 0.2649 - val_acc: 0.9280\n",
      "Epoch 40/50\n",
      "1000/1000 [==============================] - 6s 6ms/step - loss: 0.0160 - acc: 0.9980 - val_loss: 0.3005 - val_acc: 0.9100\n",
      "Epoch 41/50\n",
      "1000/1000 [==============================] - 6s 6ms/step - loss: 0.0110 - acc: 1.0000 - val_loss: 0.2566 - val_acc: 0.9250\n",
      "Epoch 42/50\n",
      "1000/1000 [==============================] - 6s 6ms/step - loss: 0.0090 - acc: 1.0000 - val_loss: 0.2598 - val_acc: 0.9270\n",
      "Epoch 43/50\n",
      "1000/1000 [==============================] - 6s 6ms/step - loss: 0.0127 - acc: 0.9990 - val_loss: 0.3144 - val_acc: 0.9050\n",
      "Epoch 44/50\n",
      "1000/1000 [==============================] - 6s 6ms/step - loss: 0.0116 - acc: 0.9990 - val_loss: 0.2661 - val_acc: 0.9150\n",
      "Epoch 45/50\n",
      "1000/1000 [==============================] - 6s 6ms/step - loss: 0.0076 - acc: 1.0000 - val_loss: 0.2822 - val_acc: 0.9160\n",
      "Epoch 46/50\n",
      "1000/1000 [==============================] - 6s 6ms/step - loss: 0.0094 - acc: 0.9980 - val_loss: 0.2735 - val_acc: 0.9170\n",
      "Epoch 47/50\n",
      "1000/1000 [==============================] - 6s 6ms/step - loss: 0.0117 - acc: 0.9980 - val_loss: 0.2930 - val_acc: 0.9100\n",
      "Epoch 48/50\n",
      "1000/1000 [==============================] - 6s 6ms/step - loss: 0.0070 - acc: 1.0000 - val_loss: 0.2736 - val_acc: 0.9200\n",
      "Epoch 49/50\n",
      "1000/1000 [==============================] - 6s 6ms/step - loss: 0.0072 - acc: 1.0000 - val_loss: 0.2871 - val_acc: 0.9180\n",
      "Epoch 50/50\n",
      "1000/1000 [==============================] - 6s 6ms/step - loss: 0.0064 - acc: 1.0000 - val_loss: 0.3055 - val_acc: 0.9160\n"
     ]
    },
    {
     "data": {
      "text/plain": [
       "<keras.callbacks.History at 0x1daf7bf55c0>"
      ]
     },
     "execution_count": 45,
     "metadata": {},
     "output_type": "execute_result"
    }
   ],
   "source": [
    "model2.fit(X_train2, Y_train2, \n",
    "          validation_data=(X_test2, Y_test2),\n",
    "          epochs=50, batch_size=32)"
   ]
  },
  {
   "cell_type": "code",
   "execution_count": 48,
   "metadata": {},
   "outputs": [
    {
     "name": "stdout",
     "output_type": "stream",
     "text": [
      "1000/1000 [==============================] - 1s 1ms/step\n"
     ]
    },
    {
     "data": {
      "text/plain": [
       "[0.305499268271029, 0.916]"
      ]
     },
     "execution_count": 48,
     "metadata": {},
     "output_type": "execute_result"
    }
   ],
   "source": [
    "model2.evaluate(X_test2, Y_test2)"
   ]
  },
  {
   "cell_type": "markdown",
   "metadata": {},
   "source": [
    "# Regression problem"
   ]
  },
  {
   "cell_type": "code",
   "execution_count": 5,
   "metadata": {},
   "outputs": [
    {
     "name": "stdout",
     "output_type": "stream",
     "text": [
      "Creating data:\n",
      "0\n",
      "100\n",
      "200\n",
      "Creating data:\n",
      "0\n",
      "100\n",
      "200\n"
     ]
    },
    {
     "data": {
      "image/png": "[encoded data removed]",
      "text/plain": [
       "<matplotlib.figure.Figure at 0x195514d7a58>"
      ]
     },
     "metadata": {},
     "output_type": "display_data"
    }
   ],
   "source": [
    "[X_train3, Y_train3] = generate_dataset_regression(300, 20)\n",
    "[X_test3, Y_test3] = generate_test_set_regression()\n",
    "visualize_prediction(X_train3[0], Y_train3[0])\n",
    "X_train3 = X_train3.reshape(300,72,72,1)\n",
    "X_test3 = X_test3.reshape(300,72,72,1)"
   ]
  },
  {
   "cell_type": "code",
   "execution_count": 33,
   "metadata": {},
   "outputs": [
    {
     "name": "stdout",
     "output_type": "stream",
     "text": [
      "[[0.26757721 0.48112412 0.76431213 0.17054476 0.1437516  0.35509944]\n",
      " [0.79481373 0.11487104 0.7062271  0.09702195 0.79166516 0.77056239]\n",
      " [0.83656933 0.43076099 0.3169145  0.50228598 0.66236439 0.70288754]\n",
      " ...\n",
      " [0.12125088 0.67508107 0.94376656 0.60599557 0.88899422 0.77714618]\n",
      " [0.57105269 0.61907078 0.22192335 0.65471034 0.35605456 0.31938659]\n",
      " [0.89049572 0.09909284 0.58904792 0.45828835 0.81269583 0.84106874]]\n"
     ]
    }
   ],
   "source": [
    "# Y_train4 = Y_train3[:,0] + 1j*Y_train3[:,1]\n",
    "# Y_test4 = Y_test3[:,0] + 1j*Y_test3[:,1]\n",
    "print(Y_train3)"
   ]
  },
  {
   "cell_type": "code",
   "execution_count": null,
   "metadata": {},
   "outputs": [],
   "source": [
    "model3 = Sequential()\n",
    "model3.add(Conv2D(filters=64, kernel_size=(3,3), input_shape=(72,72,1), activation='relu'))\n",
    "model3.add(Dropout(0.5))\n",
    "model3.add(Flatten())\n",
    "model3.add(Dense(16, activation='relu'))\n",
    "model3.add(Dense(2, activation='relu'))\n",
    "model3.compile(optimizer='adam', loss='mean_squared_error')\n",
    "print(model3.summary())"
   ]
  },
  {
   "cell_type": "code",
   "execution_count": 37,
   "metadata": {},
   "outputs": [
    {
     "name": "stdout",
     "output_type": "stream",
     "text": [
      "Train on 300 samples, validate on 300 samples\n",
      "Epoch 1/10\n",
      "300/300 [==============================] - 10s 32ms/step - loss: 0.3189 - val_loss: 0.3210\n",
      "Epoch 2/10\n",
      "300/300 [==============================] - 10s 32ms/step - loss: 0.3189 - val_loss: 0.3210\n",
      "Epoch 3/10\n",
      "300/300 [==============================] - 10s 34ms/step - loss: 0.3189 - val_loss: 0.3210\n",
      "Epoch 4/10\n",
      "300/300 [==============================] - 10s 32ms/step - loss: 0.3189 - val_loss: 0.3210\n",
      "Epoch 5/10\n",
      "300/300 [==============================] - 11s 35ms/step - loss: 0.3189 - val_loss: 0.3210\n",
      "Epoch 6/10\n",
      "300/300 [==============================] - 10s 33ms/step - loss: 0.3189 - val_loss: 0.3210\n",
      "Epoch 7/10\n",
      "300/300 [==============================] - 10s 33ms/step - loss: 0.3189 - val_loss: 0.3210\n",
      "Epoch 8/10\n",
      "300/300 [==============================] - 9s 31ms/step - loss: 0.3189 - val_loss: 0.3210\n",
      "Epoch 9/10\n",
      "300/300 [==============================] - 9s 31ms/step - loss: 0.3189 - val_loss: 0.3210\n",
      "Epoch 10/10\n",
      "300/300 [==============================] - 10s 32ms/step - loss: 0.3189 - val_loss: 0.3210\n"
     ]
    },
    {
     "data": {
      "text/plain": [
       "<keras.callbacks.History at 0x19528f9c470>"
      ]
     },
     "execution_count": 37,
     "metadata": {},
     "output_type": "execute_result"
    }
   ],
   "source": [
    "model3.fit(X_train3, Y_train3[:,0:2], \n",
    "          validation_data=(X_test3, Y_test3[:,0:2]),\n",
    "          epochs=10, batch_size=32)"
   ]
  },
  {
   "cell_type": "code",
   "execution_count": 30,
   "metadata": {},
   "outputs": [
    {
     "data": {
      "image/png": "[encoded data removed]",
      "text/plain": [
       "<matplotlib.figure.Figure at 0x1950988c240>"
      ]
     },
     "metadata": {},
     "output_type": "display_data"
    }
   ],
   "source": [
    "visualize_prediction(X_test3[0],model3.predict(X_test3)[0])"
   ]
  },
  {
   "cell_type": "code",
   "execution_count": 27,
   "metadata": {},
   "outputs": [
    {
     "data": {
      "image/png": "[encoded data removed]",
      "text/plain": [
       "<matplotlib.figure.Figure at 0x1950809e898>"
      ]
     },
     "metadata": {},
     "output_type": "display_data"
    }
   ],
   "source": [
    "visualize_prediction(X_test3[1],model3.predict(X_test3)[1])"
   ]
  },
  {
   "cell_type": "code",
   "execution_count": null,
   "metadata": {},
   "outputs": [],
   "source": []
  }
 ],
 "metadata": {
  "kernelspec": {
   "display_name": "Python 3",
   "language": "python",
   "name": "python3"
  },
  "language_info": {
   "codemirror_mode": {
    "name": "ipython",
    "version": 3
   },
   "file_extension": ".py",
   "mimetype": "text/x-python",
   "name": "python",
   "nbconvert_exporter": "python",
   "pygments_lexer": "ipython3",
   "version": "3.6.4"
  }
 },
 "nbformat": 4,
 "nbformat_minor": 2
}
